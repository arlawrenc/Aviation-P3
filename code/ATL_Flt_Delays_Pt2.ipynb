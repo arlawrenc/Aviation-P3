{
 "cells": [
  {
   "cell_type": "code",
   "execution_count": 1,
   "metadata": {},
   "outputs": [
    {
     "name": "stdout",
     "output_type": "stream",
     "text": [
      "Requirement already up-to-date: sklearn in c:\\users\\jtile\\anaconda3\\lib\\site-packages (0.0)\n",
      "Requirement already satisfied, skipping upgrade: scikit-learn in c:\\users\\jtile\\anaconda3\\lib\\site-packages (from sklearn) (0.22.1)\n",
      "Requirement already satisfied, skipping upgrade: scipy>=0.17.0 in c:\\users\\jtile\\anaconda3\\lib\\site-packages (from scikit-learn->sklearn) (1.4.1)\n",
      "Requirement already satisfied, skipping upgrade: numpy>=1.11.0 in c:\\users\\jtile\\anaconda3\\lib\\site-packages (from scikit-learn->sklearn) (1.18.1)\n",
      "Requirement already satisfied, skipping upgrade: joblib>=0.11 in c:\\users\\jtile\\anaconda3\\lib\\site-packages (from scikit-learn->sklearn) (0.14.1)\n"
     ]
    }
   ],
   "source": [
    "# Update sklearn to prevent version mismatches\n",
    "!pip install sklearn --upgrade"
   ]
  },
  {
   "cell_type": "code",
   "execution_count": 2,
   "metadata": {},
   "outputs": [],
   "source": [
    "%matplotlib inline\n",
    "import pandas as pd"
   ]
  },
  {
   "cell_type": "code",
   "execution_count": 3,
   "metadata": {},
   "outputs": [
    {
     "name": "stdout",
     "output_type": "stream",
     "text": [
      "Requirement already satisfied: joblib in c:\\users\\jtile\\anaconda3\\lib\\site-packages (0.14.1)\n"
     ]
    }
   ],
   "source": [
    "# install joblib. This will be used to save your model. \n",
    "# Restart your kernel after installing \n",
    "!pip install joblib"
   ]
  },
  {
   "cell_type": "code",
   "execution_count": 22,
   "metadata": {},
   "outputs": [],
   "source": [
    "from sklearn.model_selection import train_test_split\n",
    "trainingData = train_test_split(newData.drop('ARR_DEL15',axis=1),newData['ARR_DEL15'],test_size=0.2,random_state=42)\n"
   ]
  },
  {
   "cell_type": "markdown",
   "metadata": {},
   "source": [
    "# Load the Model from part 1"
   ]
  },
  {
   "cell_type": "code",
   "execution_count": 23,
   "metadata": {},
   "outputs": [
    {
     "data": {
      "text/plain": [
       "['../models/trainingData.sav']"
      ]
     },
     "execution_count": 23,
     "metadata": {},
     "output_type": "execute_result"
    }
   ],
   "source": [
    "# Save model\n",
    "# if joblib fails to import, try running the command to install in terminal/git-bash\n",
    "import joblib\n",
    "filename = '../models/trainingData.sav'\n"
   ]
  },
  {
   "cell_type": "code",
   "execution_count": 24,
   "metadata": {},
   "outputs": [
    {
     "data": {
      "text/plain": [
       "[        MONTH  DAY_OF_MONTH  DAY_OF_WEEK  CRS_DEP_TIME  ORIGIN_BOS  \\\n",
       " 485145      8             8            4            21           0   \n",
       " 109338      5            14            4            17           0   \n",
       " 30078       1            14            2             6           0   \n",
       " 106314      4            21            2             6           0   \n",
       " 126182      6            26            5             8           0   \n",
       " ...       ...           ...          ...           ...         ...   \n",
       " 32485       2             8            6            16           0   \n",
       " 290083      3            11            1            16           0   \n",
       " 404470      6            19            3            11           1   \n",
       " 3498        1             5            7             7           0   \n",
       " 84359       3            31            2             7           0   \n",
       " \n",
       "         ORIGIN_DCA  ORIGIN_DEN  ORIGIN_DFW  ORIGIN_EWR  ORIGIN_FLL  \\\n",
       " 485145           0           0           0           0           1   \n",
       " 109338           0           0           0           0           0   \n",
       " 30078            0           0           0           0           0   \n",
       " 106314           0           0           0           0           0   \n",
       " 126182           0           0           0           0           0   \n",
       " ...            ...         ...         ...         ...         ...   \n",
       " 32485            0           0           1           0           0   \n",
       " 290083           1           0           0           0           0   \n",
       " 404470           0           0           0           0           0   \n",
       " 3498             0           0           0           0           0   \n",
       " 84359            0           0           0           0           1   \n",
       " \n",
       "         ORIGIN_LGA  ORIGIN_MCO  ORIGIN_MIA  ORIGIN_ORD  \n",
       " 485145           0           0           0           0  \n",
       " 109338           0           0           0           1  \n",
       " 30078            1           0           0           0  \n",
       " 106314           1           0           0           0  \n",
       " 126182           0           1           0           0  \n",
       " ...            ...         ...         ...         ...  \n",
       " 32485            0           0           0           0  \n",
       " 290083           0           0           0           0  \n",
       " 404470           0           0           0           0  \n",
       " 3498             0           1           0           0  \n",
       " 84359            0           0           0           0  \n",
       " \n",
       " [79281 rows x 14 columns],\n",
       "         MONTH  DAY_OF_MONTH  DAY_OF_WEEK  CRS_DEP_TIME  ORIGIN_BOS  \\\n",
       " 384820      5            21            2            13           0   \n",
       " 236526     12            22            7            17           0   \n",
       " 407221      6             9            7             7           0   \n",
       " 354301      5            11            6             8           0   \n",
       " 183891     10            10            4            15           0   \n",
       " ...       ...           ...          ...           ...         ...   \n",
       " 201093     11            17            7            20           1   \n",
       " 61738       2            25            2             6           0   \n",
       " 167352     10            24            4            12           0   \n",
       " 258769      2             3            7            14           1   \n",
       " 252692     12             9            1             9           0   \n",
       " \n",
       "         ORIGIN_DCA  ORIGIN_DEN  ORIGIN_DFW  ORIGIN_EWR  ORIGIN_FLL  \\\n",
       " 384820           0           0           0           0           0   \n",
       " 236526           0           0           0           0           0   \n",
       " 407221           0           0           0           0           0   \n",
       " 354301           0           0           0           0           0   \n",
       " 183891           0           0           0           0           0   \n",
       " ...            ...         ...         ...         ...         ...   \n",
       " 201093           0           0           0           0           0   \n",
       " 61738            0           1           0           0           0   \n",
       " 167352           0           0           0           0           0   \n",
       " 258769           0           0           0           0           0   \n",
       " 252692           0           0           1           0           0   \n",
       " \n",
       "         ORIGIN_LGA  ORIGIN_MCO  ORIGIN_MIA  ORIGIN_ORD  \n",
       " 384820           1           0           0           0  \n",
       " 236526           0           1           0           0  \n",
       " 407221           1           0           0           0  \n",
       " 354301           0           1           0           0  \n",
       " 183891           0           0           0           1  \n",
       " ...            ...         ...         ...         ...  \n",
       " 201093           0           0           0           0  \n",
       " 61738            0           0           0           0  \n",
       " 167352           0           0           0           1  \n",
       " 258769           0           0           0           0  \n",
       " 252692           0           0           0           0  \n",
       " \n",
       " [19821 rows x 14 columns],\n",
       " 485145    0.0\n",
       " 109338    1.0\n",
       " 30078     0.0\n",
       " 106314    1.0\n",
       " 126182    0.0\n",
       "          ... \n",
       " 32485     0.0\n",
       " 290083    0.0\n",
       " 404470    0.0\n",
       " 3498      0.0\n",
       " 84359     1.0\n",
       " Name: ARR_DEL15, Length: 79281, dtype: float64,\n",
       " 384820    0.0\n",
       " 236526    1.0\n",
       " 407221    0.0\n",
       " 354301    0.0\n",
       " 183891    1.0\n",
       "          ... \n",
       " 201093    0.0\n",
       " 61738     0.0\n",
       " 167352    0.0\n",
       " 258769    0.0\n",
       " 252692    0.0\n",
       " Name: ARR_DEL15, Length: 19821, dtype: float64]"
      ]
     },
     "execution_count": 24,
     "metadata": {},
     "output_type": "execute_result"
    }
   ],
   "source": [
    "# Load the Model from part 1\n",
    "with open(filename, 'rb') as file:  \n",
    "   trainingData = joblib.load(file)\n",
    "\n",
    "trainingData"
   ]
  },
  {
   "cell_type": "code",
   "execution_count": 25,
   "metadata": {},
   "outputs": [],
   "source": [
    "#from sklearn.model_selection import train_test_split\n",
    "train_x, test_x, train_y, test_y = trainingData"
   ]
  },
  {
   "cell_type": "code",
   "execution_count": 26,
   "metadata": {},
   "outputs": [
    {
     "name": "stdout",
     "output_type": "stream",
     "text": [
      "(79281, 14)\n",
      "(19821, 14)\n"
     ]
    }
   ],
   "source": [
    "print(train_x.shape)\n",
    "print(test_x.shape)"
   ]
  },
  {
   "cell_type": "code",
   "execution_count": 27,
   "metadata": {
    "scrolled": true
   },
   "outputs": [
    {
     "name": "stdout",
     "output_type": "stream",
     "text": [
      "(79281,)\n",
      "(19821,)\n"
     ]
    }
   ],
   "source": [
    "print(train_y.shape)\n",
    "print(test_y.shape)"
   ]
  },
  {
   "cell_type": "code",
   "execution_count": 28,
   "metadata": {},
   "outputs": [
    {
     "data": {
      "text/plain": [
       "RandomForestClassifier(bootstrap=True, ccp_alpha=0.0, class_weight=None,\n",
       "                       criterion='gini', max_depth=None, max_features='auto',\n",
       "                       max_leaf_nodes=None, max_samples=None,\n",
       "                       min_impurity_decrease=0.0, min_impurity_split=None,\n",
       "                       min_samples_leaf=1, min_samples_split=2,\n",
       "                       min_weight_fraction_leaf=0.0, n_estimators=100,\n",
       "                       n_jobs=None, oob_score=False, random_state=13, verbose=0,\n",
       "                       warm_start=False)"
      ]
     },
     "execution_count": 28,
     "metadata": {},
     "output_type": "execute_result"
    }
   ],
   "source": [
    "from sklearn.ensemble import RandomForestClassifier\n",
    "model = RandomForestClassifier(random_state=13)\n",
    "model.fit(train_x,train_y)"
   ]
  },
  {
   "cell_type": "code",
   "execution_count": 29,
   "metadata": {},
   "outputs": [
    {
     "data": {
      "text/plain": [
       "0.8040966651531204"
      ]
     },
     "execution_count": 29,
     "metadata": {},
     "output_type": "execute_result"
    }
   ],
   "source": [
    "predicted = model.predict(test_x)\n",
    "model.score(test_x, test_y)"
   ]
  },
  {
   "cell_type": "code",
   "execution_count": 30,
   "metadata": {
    "scrolled": false
   },
   "outputs": [
    {
     "data": {
      "text/html": [
       "<div>\n",
       "<style scoped>\n",
       "    .dataframe tbody tr th:only-of-type {\n",
       "        vertical-align: middle;\n",
       "    }\n",
       "\n",
       "    .dataframe tbody tr th {\n",
       "        vertical-align: top;\n",
       "    }\n",
       "\n",
       "    .dataframe thead th {\n",
       "        text-align: right;\n",
       "    }\n",
       "</style>\n",
       "<table border=\"1\" class=\"dataframe\">\n",
       "  <thead>\n",
       "    <tr style=\"text-align: right;\">\n",
       "      <th></th>\n",
       "      <th>MONTH</th>\n",
       "      <th>DAY_OF_MONTH</th>\n",
       "      <th>DAY_OF_WEEK</th>\n",
       "      <th>CRS_DEP_TIME</th>\n",
       "      <th>ORIGIN_BOS</th>\n",
       "      <th>ORIGIN_DCA</th>\n",
       "      <th>ORIGIN_DEN</th>\n",
       "      <th>ORIGIN_DFW</th>\n",
       "      <th>ORIGIN_EWR</th>\n",
       "      <th>ORIGIN_FLL</th>\n",
       "      <th>ORIGIN_LGA</th>\n",
       "      <th>ORIGIN_MCO</th>\n",
       "      <th>ORIGIN_MIA</th>\n",
       "      <th>ORIGIN_ORD</th>\n",
       "    </tr>\n",
       "  </thead>\n",
       "  <tbody>\n",
       "    <tr>\n",
       "      <th>384820</th>\n",
       "      <td>5</td>\n",
       "      <td>21</td>\n",
       "      <td>2</td>\n",
       "      <td>13</td>\n",
       "      <td>0</td>\n",
       "      <td>0</td>\n",
       "      <td>0</td>\n",
       "      <td>0</td>\n",
       "      <td>0</td>\n",
       "      <td>0</td>\n",
       "      <td>1</td>\n",
       "      <td>0</td>\n",
       "      <td>0</td>\n",
       "      <td>0</td>\n",
       "    </tr>\n",
       "    <tr>\n",
       "      <th>236526</th>\n",
       "      <td>12</td>\n",
       "      <td>22</td>\n",
       "      <td>7</td>\n",
       "      <td>17</td>\n",
       "      <td>0</td>\n",
       "      <td>0</td>\n",
       "      <td>0</td>\n",
       "      <td>0</td>\n",
       "      <td>0</td>\n",
       "      <td>0</td>\n",
       "      <td>0</td>\n",
       "      <td>1</td>\n",
       "      <td>0</td>\n",
       "      <td>0</td>\n",
       "    </tr>\n",
       "    <tr>\n",
       "      <th>407221</th>\n",
       "      <td>6</td>\n",
       "      <td>9</td>\n",
       "      <td>7</td>\n",
       "      <td>7</td>\n",
       "      <td>0</td>\n",
       "      <td>0</td>\n",
       "      <td>0</td>\n",
       "      <td>0</td>\n",
       "      <td>0</td>\n",
       "      <td>0</td>\n",
       "      <td>1</td>\n",
       "      <td>0</td>\n",
       "      <td>0</td>\n",
       "      <td>0</td>\n",
       "    </tr>\n",
       "    <tr>\n",
       "      <th>354301</th>\n",
       "      <td>5</td>\n",
       "      <td>11</td>\n",
       "      <td>6</td>\n",
       "      <td>8</td>\n",
       "      <td>0</td>\n",
       "      <td>0</td>\n",
       "      <td>0</td>\n",
       "      <td>0</td>\n",
       "      <td>0</td>\n",
       "      <td>0</td>\n",
       "      <td>0</td>\n",
       "      <td>1</td>\n",
       "      <td>0</td>\n",
       "      <td>0</td>\n",
       "    </tr>\n",
       "    <tr>\n",
       "      <th>183891</th>\n",
       "      <td>10</td>\n",
       "      <td>10</td>\n",
       "      <td>4</td>\n",
       "      <td>15</td>\n",
       "      <td>0</td>\n",
       "      <td>0</td>\n",
       "      <td>0</td>\n",
       "      <td>0</td>\n",
       "      <td>0</td>\n",
       "      <td>0</td>\n",
       "      <td>0</td>\n",
       "      <td>0</td>\n",
       "      <td>0</td>\n",
       "      <td>1</td>\n",
       "    </tr>\n",
       "  </tbody>\n",
       "</table>\n",
       "</div>"
      ],
      "text/plain": [
       "        MONTH  DAY_OF_MONTH  DAY_OF_WEEK  CRS_DEP_TIME  ORIGIN_BOS  \\\n",
       "384820      5            21            2            13           0   \n",
       "236526     12            22            7            17           0   \n",
       "407221      6             9            7             7           0   \n",
       "354301      5            11            6             8           0   \n",
       "183891     10            10            4            15           0   \n",
       "\n",
       "        ORIGIN_DCA  ORIGIN_DEN  ORIGIN_DFW  ORIGIN_EWR  ORIGIN_FLL  \\\n",
       "384820           0           0           0           0           0   \n",
       "236526           0           0           0           0           0   \n",
       "407221           0           0           0           0           0   \n",
       "354301           0           0           0           0           0   \n",
       "183891           0           0           0           0           0   \n",
       "\n",
       "        ORIGIN_LGA  ORIGIN_MCO  ORIGIN_MIA  ORIGIN_ORD  \n",
       "384820           1           0           0           0  \n",
       "236526           0           1           0           0  \n",
       "407221           1           0           0           0  \n",
       "354301           0           1           0           0  \n",
       "183891           0           0           0           1  "
      ]
     },
     "execution_count": 30,
     "metadata": {},
     "output_type": "execute_result"
    }
   ],
   "source": [
    "test_x.head()"
   ]
  },
  {
   "cell_type": "code",
   "execution_count": 31,
   "metadata": {},
   "outputs": [],
   "source": [
    "from sklearn.metrics import roc_auc_score\n",
    "probabilities = model.predict_proba(test_x)"
   ]
  },
  {
   "cell_type": "code",
   "execution_count": 32,
   "metadata": {},
   "outputs": [
    {
     "data": {
      "text/plain": [
       "0.734469461635977"
      ]
     },
     "execution_count": 32,
     "metadata": {},
     "output_type": "execute_result"
    }
   ],
   "source": [
    "roc_auc_score(test_y, probabilities[:,1])"
   ]
  },
  {
   "cell_type": "code",
   "execution_count": 33,
   "metadata": {},
   "outputs": [
    {
     "data": {
      "text/plain": [
       "array([[14557,  1327],\n",
       "       [ 2556,  1381]], dtype=int64)"
      ]
     },
     "execution_count": 33,
     "metadata": {},
     "output_type": "execute_result"
    }
   ],
   "source": [
    "from sklearn.metrics import confusion_matrix\n",
    "confusion_matrix(test_y, predicted)"
   ]
  },
  {
   "cell_type": "code",
   "execution_count": 34,
   "metadata": {},
   "outputs": [
    {
     "data": {
      "text/plain": [
       "0.9280196107562027"
      ]
     },
     "execution_count": 34,
     "metadata": {},
     "output_type": "execute_result"
    }
   ],
   "source": [
    "from sklearn.metrics import precision_score\n",
    "\n",
    "train_predictions = model.predict(train_x)\n",
    "precision_score(train_y, train_predictions)"
   ]
  },
  {
   "cell_type": "code",
   "execution_count": 35,
   "metadata": {},
   "outputs": [
    {
     "data": {
      "text/plain": [
       "0.7926527504599962"
      ]
     },
     "execution_count": 35,
     "metadata": {},
     "output_type": "execute_result"
    }
   ],
   "source": [
    "from sklearn.metrics import recall_score\n",
    "recall_score(train_y, train_predictions)"
   ]
  },
  {
   "cell_type": "markdown",
   "metadata": {},
   "source": [
    "# Visualize Output of Model"
   ]
  },
  {
   "cell_type": "code",
   "execution_count": 36,
   "metadata": {},
   "outputs": [],
   "source": [
    "import matplotlib.pyplot as plt\n",
    "import seaborn as sns\n",
    "\n",
    "sns.set()"
   ]
  },
  {
   "cell_type": "code",
   "execution_count": 37,
   "metadata": {},
   "outputs": [
    {
     "data": {
      "text/plain": [
       "Text(0, 0.5, 'True Positive Rate')"
      ]
     },
     "execution_count": 37,
     "metadata": {},
     "output_type": "execute_result"
    },
    {
     "data": {
      "image/png": "[encoded data removed]",
      "text/plain": [
       "<Figure size 432x288 with 1 Axes>"
      ]
     },
     "metadata": {},
     "output_type": "display_data"
    }
   ],
   "source": [
    "from sklearn.metrics import roc_curve\n",
    "\n",
    "fpr, tpr, _= roc_curve(test_y, probabilities[:,1])\n",
    "plt.plot(fpr ,tpr)\n",
    "plt.plot([0,1], [0,1], color='grey', lw=1, linestyle='--')\n",
    "plt.xlabel('False Positive Rate')\n",
    "plt.ylabel('True Positive Rate')"
   ]
  },
  {
   "cell_type": "code",
   "execution_count": 38,
   "metadata": {},
   "outputs": [
    {
     "data": {
      "text/plain": [
       "Index(['MONTH', 'DAY_OF_MONTH', 'DAY_OF_WEEK', 'CRS_DEP_TIME', 'ORIGIN_BOS',\n",
       "       'ORIGIN_DCA', 'ORIGIN_DEN', 'ORIGIN_DFW', 'ORIGIN_EWR', 'ORIGIN_FLL',\n",
       "       'ORIGIN_LGA', 'ORIGIN_MCO', 'ORIGIN_MIA', 'ORIGIN_ORD'],\n",
       "      dtype='object')"
      ]
     },
     "execution_count": 38,
     "metadata": {},
     "output_type": "execute_result"
    }
   ],
   "source": [
    "test_x.columns"
   ]
  },
  {
   "cell_type": "code",
   "execution_count": 40,
   "metadata": {},
   "outputs": [],
   "source": [
    "def predict_delay(departure_date_time, origin):\n",
    "    from datetime import datetime\n",
    "    \n",
    "    try:\n",
    "        departure_date_time_parsed = datetime.strptime(departure_date_time, '%d/%m/%Y %H:%M:%S')\n",
    "    except ValueError as e:\n",
    "        return 'Error parsing date/time - {}'.format(e)\n",
    "    \n",
    "    month = departure_date_time_parsed.month\n",
    "    day = departure_date_time_parsed.day\n",
    "    day_of_week = departure_date_time_parsed.isoweekday()\n",
    "    hour = departure_date_time_parsed.hour\n",
    "    \n",
    "    orign = origin.upper()\n",
    "#    destination = destination.upper()\n",
    "    \n",
    "    input = [{'MONTH':month,\n",
    "              'DAY_OF_MONTH': day,\n",
    "              'DayOfWeek': day_of_week,\n",
    "              'CRS_DEP_TIME': hour,\n",
    "              'ORIGIN_BOS': 1 if origin == 'BOS' else 0,\n",
    "              'ORIGIN_DCA': 1 if origin == 'DCA' else 0,\n",
    "              'ORIGIN_DEN': 1 if origin == 'DEN' else 0,\n",
    "              'ORIGIN_DFW': 1 if origin == 'DFW' else 0,\n",
    "              'ORIGIN_EWR': 1 if origin == 'EWR' else 0,\n",
    "              'ORIGIN_FLL': 1 if origin == 'FLL' else 0,\n",
    "              'ORIGIN_LGA': 1 if origin == 'LGA' else 0,\n",
    "              'ORIGIN_MCO': 1 if origin == 'MCO' else 0,\n",
    "              'ORIGIN_MIA': 1 if origin == 'MIA' else 0,\n",
    "              'ORIGIN_ORD': 1 if origin == 'ORD' else 0\n",
    "             \n",
    "        \n",
    "    }]\n",
    "    \n",
    "    return model.predict_proba(pd.DataFrame(input))[0][0]\n",
    "    \n",
    "    \n",
    "                                                       "
   ]
  },
  {
   "cell_type": "code",
   "execution_count": 41,
   "metadata": {},
   "outputs": [
    {
     "data": {
      "text/plain": [
       "0.62"
      ]
     },
     "execution_count": 41,
     "metadata": {},
     "output_type": "execute_result"
    }
   ],
   "source": [
    "# Date input to the predict_delay function use the internation date format dd/mm/year.\n",
    "predict_delay('24/10/2020 15:00:00','BOS')"
   ]
  },
  {
   "cell_type": "code",
   "execution_count": 42,
   "metadata": {},
   "outputs": [
    {
     "data": {
      "text/plain": [
       "(0.0, 1.0)"
      ]
     },
     "execution_count": 42,
     "metadata": {},
     "output_type": "execute_result"
    },
    {
     "data": {
      "image/png": "[encoded data removed]",
      "text/plain": [
       "<Figure size 432x288 with 1 Axes>"
      ]
     },
     "metadata": {},
     "output_type": "display_data"
    }
   ],
   "source": [
    "import numpy as np\n",
    "labels = ('Nov', 'Dec', 'Jan', 'Feb', 'Mar', 'Apr', 'May')\n",
    "values = (predict_delay('01/11/2020 15:00:00','BOS'),\n",
    "          predict_delay('01/12/2020 15:00:00','BOS'),\n",
    "          predict_delay('01/01/2021 15:00:00','BOS'),\n",
    "          predict_delay('01/02/2021 15:00:00','BOS'),\n",
    "          predict_delay('01/03/2021 15:00:00','BOS'),\n",
    "          predict_delay('01/04/2021 15:00:00','BOS'),\n",
    "          predict_delay('01/05/2021 15:00:00','BOS'))\n",
    "alabels = np.arange(len(labels))\n",
    "\n",
    "plt.bar(alabels, values, align='center', alpha=0.5)\n",
    "plt.xticks(alabels,labels)\n",
    "plt.ylabel('Probability of On-Time Arrival')\n",
    "plt.ylim((0.0, 1.0))"
   ]
  },
  {
   "cell_type": "code",
   "execution_count": 43,
   "metadata": {},
   "outputs": [
    {
     "data": {
      "text/plain": [
       "(0.0, 1.0)"
      ]
     },
     "execution_count": 43,
     "metadata": {},
     "output_type": "execute_result"
    },
    {
     "data": {
      "image/png": "[encoded data removed]",
      "text/plain": [
       "<Figure size 432x288 with 1 Axes>"
      ]
     },
     "metadata": {},
     "output_type": "display_data"
    }
   ],
   "source": [
    "import numpy as np\n",
    "labels = ('Winter', 'Spring', 'Summer', 'Fall')\n",
    "values = (predict_delay('21/12/2020 15:00:00','BOS'),\n",
    "          predict_delay('21/03/2021 15:00:00','BOS'),\n",
    "          predict_delay('21/06/2021 15:00:00','BOS'),\n",
    "          predict_delay('21/09/2021 15:00:00','BOS'))\n",
    "alabels = np.arange(len(labels))\n",
    "\n",
    "plt.bar(alabels, values, align='center', alpha=0.5)\n",
    "plt.xticks(alabels,labels)\n",
    "plt.ylabel('Probability of On-Time Arrival')\n",
    "plt.ylim((0.0, 1.0))"
   ]
  },
  {
   "cell_type": "code",
   "execution_count": null,
   "metadata": {},
   "outputs": [],
   "source": []
  }
 ],
 "metadata": {
  "kernelspec": {
   "display_name": "Python (PythonAdv)",
   "language": "python",
   "name": "pythonadv"
  },
  "language_info": {
   "codemirror_mode": {
    "name": "ipython",
    "version": 3
   },
   "file_extension": ".py",
   "mimetype": "text/x-python",
   "name": "python",
   "nbconvert_exporter": "python",
   "pygments_lexer": "ipython3",
   "version": "3.7.6"
  }
 },
 "nbformat": 4,
 "nbformat_minor": 4
}
